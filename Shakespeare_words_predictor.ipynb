{
  "nbformat": 4,
  "nbformat_minor": 0,
  "metadata": {
    "colab": {
      "name": "Shakespeare words predictor",
      "provenance": [],
      "authorship_tag": "ABX9TyOD/wQDiaOTO0l4wovKl/Vk",
      "include_colab_link": true
    },
    "kernelspec": {
      "name": "python3",
      "display_name": "Python 3"
    },
    "accelerator": "GPU"
  },
  "cells": [
    {
      "cell_type": "markdown",
      "metadata": {
        "id": "view-in-github",
        "colab_type": "text"
      },
      "source": [
        "<a href=\"https://colab.research.google.com/github/mohnabil2020/machine_learning/blob/master/Shakespeare_words_predictor.ipynb\" target=\"_parent\"><img src=\"https://colab.research.google.com/assets/colab-badge.svg\" alt=\"Open In Colab\"/></a>"
      ]
    },
    {
      "cell_type": "markdown",
      "metadata": {
        "id": "qJkqQBnYTmn_",
        "colab_type": "text"
      },
      "source": [
        "\n",
        "**This notebook is for predicting words from Shakespeare  using natural language processing**\n",
        "\n",
        "\n",
        "---\n",
        "\n",
        "\n",
        "\n",
        "---\n",
        "***My target is*** :\n",
        "\n",
        "Increasing accuracy rate and decreasing loss rate as \n",
        "\n",
        "1.   Increasing accuracy rate and decreasing loss rate as possible\n",
        "2.   prediciting words correctly as possible\n",
        "\n",
        "3.   Preventing overfitting\n",
        "\n",
        "\n",
        "\n",
        "\n"
      ]
    },
    {
      "cell_type": "code",
      "metadata": {
        "id": "jiZ8TufES0LT",
        "colab_type": "code",
        "colab": {}
      },
      "source": [
        "from tensorflow.keras.preprocessing.sequence import pad_sequences\n",
        "from tensorflow.keras.layers import Embedding, LSTM, Dense, Dropout, Bidirectional\n",
        "from tensorflow.keras.preprocessing.text import Tokenizer\n",
        "from tensorflow.keras.models import Sequential\n",
        "from tensorflow.keras.optimizers import Adam\n",
        "from tensorflow.keras import regularizers\n",
        "import tensorflow.keras.utils as ku \n",
        "import numpy as np "
      ],
      "execution_count": 1,
      "outputs": []
    },
    {
      "cell_type": "code",
      "metadata": {
        "id": "QlgqIGXLTFLb",
        "colab_type": "code",
        "colab": {
          "base_uri": "https://localhost:8080/",
          "height": 248
        },
        "outputId": "32d67dd9-e1a7-4c27-dfd7-1173cd808a06"
      },
      "source": [
        "tokenizer = Tokenizer()\n",
        "!wget --no-check-certificate \\\n",
        "    https://storage.googleapis.com/laurencemoroney-blog.appspot.com/sonnets.txt \\\n",
        "    -O /tmp/sonnets.txt\n",
        "data = open('/tmp/sonnets.txt').read()\n",
        "\n",
        "corpus = data.lower().split(\"\\n\")\n",
        "\n",
        "\n",
        "tokenizer.fit_on_texts(corpus)\n",
        "total_words = len(tokenizer.word_index) + 1\n",
        "\n",
        "# create input sequences using list of tokens\n",
        "input_sequences = []\n",
        "for line in corpus:\n",
        "\ttoken_list = tokenizer.texts_to_sequences([line])[0]\n",
        "\tfor i in range(1, len(token_list)):\n",
        "\t\tn_gram_sequence = token_list[:i+1]\n",
        "\t\tinput_sequences.append(n_gram_sequence)\n",
        "\n",
        "\n",
        "# pad sequences \n",
        "max_sequence_len = max([len(x) for x in input_sequences])\n",
        "input_sequences = np.array(pad_sequences(input_sequences, maxlen=max_sequence_len, padding='pre'))\n",
        "\n",
        "# create predictors and label\n",
        "predictors, label = input_sequences[:,:-1],input_sequences[:,-1]\n",
        "\n",
        "label = ku.to_categorical(label, num_classes=total_words)"
      ],
      "execution_count": 2,
      "outputs": [
        {
          "output_type": "stream",
          "text": [
            "--2020-08-06 19:45:19--  https://storage.googleapis.com/laurencemoroney-blog.appspot.com/sonnets.txt\n",
            "Resolving storage.googleapis.com (storage.googleapis.com)... 108.177.112.128, 172.217.212.128, 172.217.214.128, ...\n",
            "Connecting to storage.googleapis.com (storage.googleapis.com)|108.177.112.128|:443... connected.\n",
            "HTTP request sent, awaiting response... 200 OK\n",
            "Length: 93578 (91K) [text/plain]\n",
            "Saving to: ‘/tmp/sonnets.txt’\n",
            "\n",
            "\r/tmp/sonnets.txt      0%[                    ]       0  --.-KB/s               \r/tmp/sonnets.txt    100%[===================>]  91.38K  --.-KB/s    in 0.001s  \n",
            "\n",
            "2020-08-06 19:45:19 (71.3 MB/s) - ‘/tmp/sonnets.txt’ saved [93578/93578]\n",
            "\n"
          ],
          "name": "stdout"
        }
      ]
    },
    {
      "cell_type": "code",
      "metadata": {
        "id": "Gzvvpex1TKRP",
        "colab_type": "code",
        "colab": {
          "base_uri": "https://localhost:8080/",
          "height": 458
        },
        "outputId": "86d60958-db8d-4e4b-eaf8-770a17a09b58"
      },
      "source": [
        "model = Sequential()\n",
        "model.add(Embedding(total_words, 100, input_length=max_sequence_len-1))\n",
        "model.add(Bidirectional(LSTM(150, return_sequences = True)))\n",
        "model.add(Dropout(0.2))\n",
        "model.add(LSTM(100))\n",
        "model.add(Dense(total_words/2, activation='relu', kernel_regularizer=regularizers.l2(0.01)))\n",
        "model.add(Dense(total_words, activation='softmax'))\n",
        "model.compile(loss='categorical_crossentropy', optimizer='adam', metrics=['accuracy'])\n",
        "print(model.summary())\n"
      ],
      "execution_count": 3,
      "outputs": [
        {
          "output_type": "stream",
          "text": [
            "Model: \"sequential\"\n",
            "_________________________________________________________________\n",
            "Layer (type)                 Output Shape              Param #   \n",
            "=================================================================\n",
            "embedding (Embedding)        (None, 10, 100)           321100    \n",
            "_________________________________________________________________\n",
            "bidirectional (Bidirectional (None, 10, 300)           301200    \n",
            "_________________________________________________________________\n",
            "dropout (Dropout)            (None, 10, 300)           0         \n",
            "_________________________________________________________________\n",
            "lstm_1 (LSTM)                (None, 100)               160400    \n",
            "_________________________________________________________________\n",
            "dense (Dense)                (None, 1605)              162105    \n",
            "_________________________________________________________________\n",
            "dense_1 (Dense)              (None, 3211)              5156866   \n",
            "=================================================================\n",
            "Total params: 6,101,671\n",
            "Trainable params: 6,101,671\n",
            "Non-trainable params: 0\n",
            "_________________________________________________________________\n",
            "None\n"
          ],
          "name": "stdout"
        }
      ]
    },
    {
      "cell_type": "code",
      "metadata": {
        "id": "6gkrDlkqTMVB",
        "colab_type": "code",
        "colab": {
          "base_uri": "https://localhost:8080/",
          "height": 1000
        },
        "outputId": "a0f8a179-868e-4bb4-d26f-1b3e1fb5a82c"
      },
      "source": [
        " history = model.fit(predictors,\n",
        "                     label,\n",
        "                     epochs=100,\n",
        "                     verbose=1\n",
        "                     )"
      ],
      "execution_count": 4,
      "outputs": [
        {
          "output_type": "stream",
          "text": [
            "Epoch 1/100\n",
            "484/484 [==============================] - 13s 27ms/step - loss: 6.9167 - accuracy: 0.0220\n",
            "Epoch 2/100\n",
            "484/484 [==============================] - 13s 27ms/step - loss: 6.4955 - accuracy: 0.0205\n",
            "Epoch 3/100\n",
            "484/484 [==============================] - 13s 28ms/step - loss: 6.3942 - accuracy: 0.0248\n",
            "Epoch 4/100\n",
            "484/484 [==============================] - 13s 27ms/step - loss: 6.2823 - accuracy: 0.0287\n",
            "Epoch 5/100\n",
            "484/484 [==============================] - 13s 27ms/step - loss: 6.1922 - accuracy: 0.0365\n",
            "Epoch 6/100\n",
            "484/484 [==============================] - 13s 27ms/step - loss: 6.1134 - accuracy: 0.0376\n",
            "Epoch 7/100\n",
            "484/484 [==============================] - 13s 26ms/step - loss: 6.0357 - accuracy: 0.0417\n",
            "Epoch 8/100\n",
            "484/484 [==============================] - 13s 27ms/step - loss: 5.9588 - accuracy: 0.0448\n",
            "Epoch 9/100\n",
            "484/484 [==============================] - 13s 27ms/step - loss: 5.8597 - accuracy: 0.0505\n",
            "Epoch 10/100\n",
            "484/484 [==============================] - 13s 27ms/step - loss: 5.7471 - accuracy: 0.0547\n",
            "Epoch 11/100\n",
            "484/484 [==============================] - 13s 27ms/step - loss: 5.6360 - accuracy: 0.0608\n",
            "Epoch 12/100\n",
            "484/484 [==============================] - 13s 27ms/step - loss: 5.5272 - accuracy: 0.0680\n",
            "Epoch 13/100\n",
            "484/484 [==============================] - 13s 27ms/step - loss: 5.4213 - accuracy: 0.0730\n",
            "Epoch 14/100\n",
            "484/484 [==============================] - 13s 27ms/step - loss: 5.3136 - accuracy: 0.0798\n",
            "Epoch 15/100\n",
            "484/484 [==============================] - 13s 27ms/step - loss: 5.2076 - accuracy: 0.0860\n",
            "Epoch 16/100\n",
            "484/484 [==============================] - 13s 27ms/step - loss: 5.1006 - accuracy: 0.0958\n",
            "Epoch 17/100\n",
            "484/484 [==============================] - 13s 27ms/step - loss: 4.9982 - accuracy: 0.1017\n",
            "Epoch 18/100\n",
            "484/484 [==============================] - 13s 27ms/step - loss: 4.8908 - accuracy: 0.1103\n",
            "Epoch 19/100\n",
            "484/484 [==============================] - 13s 27ms/step - loss: 4.7796 - accuracy: 0.1189\n",
            "Epoch 20/100\n",
            "484/484 [==============================] - 13s 27ms/step - loss: 4.6716 - accuracy: 0.1298\n",
            "Epoch 21/100\n",
            "484/484 [==============================] - 13s 27ms/step - loss: 4.5740 - accuracy: 0.1383\n",
            "Epoch 22/100\n",
            "484/484 [==============================] - 13s 27ms/step - loss: 4.4602 - accuracy: 0.1471\n",
            "Epoch 23/100\n",
            "484/484 [==============================] - 13s 27ms/step - loss: 4.3489 - accuracy: 0.1623\n",
            "Epoch 24/100\n",
            "484/484 [==============================] - 13s 27ms/step - loss: 4.2426 - accuracy: 0.1701\n",
            "Epoch 25/100\n",
            "484/484 [==============================] - 13s 27ms/step - loss: 4.1443 - accuracy: 0.1867\n",
            "Epoch 26/100\n",
            "484/484 [==============================] - 13s 27ms/step - loss: 4.0206 - accuracy: 0.2032\n",
            "Epoch 27/100\n",
            "484/484 [==============================] - 13s 28ms/step - loss: 3.9292 - accuracy: 0.2194\n",
            "Epoch 28/100\n",
            "484/484 [==============================] - 13s 27ms/step - loss: 3.8161 - accuracy: 0.2340\n",
            "Epoch 29/100\n",
            "484/484 [==============================] - 13s 27ms/step - loss: 3.7119 - accuracy: 0.2568\n",
            "Epoch 30/100\n",
            "484/484 [==============================] - 13s 27ms/step - loss: 3.6126 - accuracy: 0.2793\n",
            "Epoch 31/100\n",
            "484/484 [==============================] - 13s 27ms/step - loss: 3.5200 - accuracy: 0.2966\n",
            "Epoch 32/100\n",
            "484/484 [==============================] - 13s 26ms/step - loss: 3.4229 - accuracy: 0.3199\n",
            "Epoch 33/100\n",
            "484/484 [==============================] - 13s 26ms/step - loss: 3.3223 - accuracy: 0.3382\n",
            "Epoch 34/100\n",
            "484/484 [==============================] - 13s 27ms/step - loss: 3.2322 - accuracy: 0.3626\n",
            "Epoch 35/100\n",
            "484/484 [==============================] - 13s 27ms/step - loss: 3.1504 - accuracy: 0.3805\n",
            "Epoch 36/100\n",
            "484/484 [==============================] - 13s 27ms/step - loss: 3.0727 - accuracy: 0.3963\n",
            "Epoch 37/100\n",
            "484/484 [==============================] - 13s 27ms/step - loss: 2.9967 - accuracy: 0.4120\n",
            "Epoch 38/100\n",
            "484/484 [==============================] - 13s 27ms/step - loss: 2.9098 - accuracy: 0.4322\n",
            "Epoch 39/100\n",
            "484/484 [==============================] - 13s 27ms/step - loss: 2.8433 - accuracy: 0.4521\n",
            "Epoch 40/100\n",
            "484/484 [==============================] - 13s 27ms/step - loss: 2.7638 - accuracy: 0.4646\n",
            "Epoch 41/100\n",
            "484/484 [==============================] - 13s 27ms/step - loss: 2.7136 - accuracy: 0.4773\n",
            "Epoch 42/100\n",
            "484/484 [==============================] - 13s 27ms/step - loss: 2.6390 - accuracy: 0.4961\n",
            "Epoch 43/100\n",
            "484/484 [==============================] - 13s 27ms/step - loss: 2.5776 - accuracy: 0.5114\n",
            "Epoch 44/100\n",
            "484/484 [==============================] - 13s 27ms/step - loss: 2.5200 - accuracy: 0.5206\n",
            "Epoch 45/100\n",
            "484/484 [==============================] - 13s 26ms/step - loss: 2.4678 - accuracy: 0.5329\n",
            "Epoch 46/100\n",
            "484/484 [==============================] - 13s 27ms/step - loss: 2.4116 - accuracy: 0.5459\n",
            "Epoch 47/100\n",
            "484/484 [==============================] - 13s 27ms/step - loss: 2.3630 - accuracy: 0.5565\n",
            "Epoch 48/100\n",
            "484/484 [==============================] - 13s 27ms/step - loss: 2.3065 - accuracy: 0.5657\n",
            "Epoch 49/100\n",
            "484/484 [==============================] - 13s 27ms/step - loss: 2.2512 - accuracy: 0.5768\n",
            "Epoch 50/100\n",
            "484/484 [==============================] - 13s 27ms/step - loss: 2.2107 - accuracy: 0.5885\n",
            "Epoch 51/100\n",
            "484/484 [==============================] - 13s 28ms/step - loss: 2.1591 - accuracy: 0.6023\n",
            "Epoch 52/100\n",
            "484/484 [==============================] - 13s 27ms/step - loss: 2.1221 - accuracy: 0.6090\n",
            "Epoch 53/100\n",
            "484/484 [==============================] - 13s 27ms/step - loss: 2.0783 - accuracy: 0.6171\n",
            "Epoch 54/100\n",
            "484/484 [==============================] - 13s 27ms/step - loss: 2.0397 - accuracy: 0.6272\n",
            "Epoch 55/100\n",
            "484/484 [==============================] - 13s 27ms/step - loss: 2.0049 - accuracy: 0.6326\n",
            "Epoch 56/100\n",
            "484/484 [==============================] - 13s 27ms/step - loss: 1.9639 - accuracy: 0.6394\n",
            "Epoch 57/100\n",
            "484/484 [==============================] - 13s 27ms/step - loss: 1.9259 - accuracy: 0.6528\n",
            "Epoch 58/100\n",
            "484/484 [==============================] - 13s 27ms/step - loss: 1.8878 - accuracy: 0.6603\n",
            "Epoch 59/100\n",
            "484/484 [==============================] - 13s 27ms/step - loss: 1.8493 - accuracy: 0.6675\n",
            "Epoch 60/100\n",
            "484/484 [==============================] - 13s 27ms/step - loss: 1.8275 - accuracy: 0.6717\n",
            "Epoch 61/100\n",
            "484/484 [==============================] - 13s 27ms/step - loss: 1.7936 - accuracy: 0.6811\n",
            "Epoch 62/100\n",
            "484/484 [==============================] - 13s 27ms/step - loss: 1.7581 - accuracy: 0.6878\n",
            "Epoch 63/100\n",
            "484/484 [==============================] - 13s 27ms/step - loss: 1.7386 - accuracy: 0.6894\n",
            "Epoch 64/100\n",
            "484/484 [==============================] - 13s 27ms/step - loss: 1.7116 - accuracy: 0.6954\n",
            "Epoch 65/100\n",
            "484/484 [==============================] - 13s 27ms/step - loss: 1.6861 - accuracy: 0.7016\n",
            "Epoch 66/100\n",
            "484/484 [==============================] - 13s 27ms/step - loss: 1.6500 - accuracy: 0.7096\n",
            "Epoch 67/100\n",
            "484/484 [==============================] - 13s 27ms/step - loss: 1.6115 - accuracy: 0.7226\n",
            "Epoch 68/100\n",
            "484/484 [==============================] - 13s 27ms/step - loss: 1.5985 - accuracy: 0.7152\n",
            "Epoch 69/100\n",
            "484/484 [==============================] - 13s 27ms/step - loss: 1.5895 - accuracy: 0.7173\n",
            "Epoch 70/100\n",
            "484/484 [==============================] - 13s 26ms/step - loss: 1.5630 - accuracy: 0.7260\n",
            "Epoch 71/100\n",
            "484/484 [==============================] - 13s 26ms/step - loss: 1.5400 - accuracy: 0.7313\n",
            "Epoch 72/100\n",
            "484/484 [==============================] - 13s 27ms/step - loss: 1.5071 - accuracy: 0.7381\n",
            "Epoch 73/100\n",
            "484/484 [==============================] - 13s 27ms/step - loss: 1.4840 - accuracy: 0.7432\n",
            "Epoch 74/100\n",
            "484/484 [==============================] - 13s 27ms/step - loss: 1.4637 - accuracy: 0.7449\n",
            "Epoch 75/100\n",
            "484/484 [==============================] - 14s 28ms/step - loss: 1.4520 - accuracy: 0.7472\n",
            "Epoch 76/100\n",
            "484/484 [==============================] - 13s 27ms/step - loss: 1.4398 - accuracy: 0.7504\n",
            "Epoch 77/100\n",
            "484/484 [==============================] - 13s 27ms/step - loss: 1.4203 - accuracy: 0.7529\n",
            "Epoch 78/100\n",
            "484/484 [==============================] - 13s 27ms/step - loss: 1.4031 - accuracy: 0.7571\n",
            "Epoch 79/100\n",
            "484/484 [==============================] - 13s 27ms/step - loss: 1.3848 - accuracy: 0.7586\n",
            "Epoch 80/100\n",
            "484/484 [==============================] - 13s 26ms/step - loss: 1.3632 - accuracy: 0.7654\n",
            "Epoch 81/100\n",
            "484/484 [==============================] - 13s 27ms/step - loss: 1.3524 - accuracy: 0.7646\n",
            "Epoch 82/100\n",
            "484/484 [==============================] - 13s 26ms/step - loss: 1.3433 - accuracy: 0.7648\n",
            "Epoch 83/100\n",
            "484/484 [==============================] - 13s 27ms/step - loss: 1.3117 - accuracy: 0.7733\n",
            "Epoch 84/100\n",
            "484/484 [==============================] - 13s 27ms/step - loss: 1.2954 - accuracy: 0.7777\n",
            "Epoch 85/100\n",
            "484/484 [==============================] - 13s 27ms/step - loss: 1.2774 - accuracy: 0.7813\n",
            "Epoch 86/100\n",
            "484/484 [==============================] - 13s 27ms/step - loss: 1.2686 - accuracy: 0.7828\n",
            "Epoch 87/100\n",
            "484/484 [==============================] - 13s 27ms/step - loss: 1.2622 - accuracy: 0.7799\n",
            "Epoch 88/100\n",
            "484/484 [==============================] - 13s 27ms/step - loss: 1.2580 - accuracy: 0.7801\n",
            "Epoch 89/100\n",
            "484/484 [==============================] - 13s 26ms/step - loss: 1.2406 - accuracy: 0.7829\n",
            "Epoch 90/100\n",
            "484/484 [==============================] - 13s 26ms/step - loss: 1.2438 - accuracy: 0.7841\n",
            "Epoch 91/100\n",
            "484/484 [==============================] - 13s 27ms/step - loss: 1.2242 - accuracy: 0.7870\n",
            "Epoch 92/100\n",
            "484/484 [==============================] - 13s 27ms/step - loss: 1.2034 - accuracy: 0.7909\n",
            "Epoch 93/100\n",
            "484/484 [==============================] - 13s 27ms/step - loss: 1.1986 - accuracy: 0.7895\n",
            "Epoch 94/100\n",
            "484/484 [==============================] - 13s 27ms/step - loss: 1.1760 - accuracy: 0.7969\n",
            "Epoch 95/100\n",
            "484/484 [==============================] - 13s 27ms/step - loss: 1.1690 - accuracy: 0.7952\n",
            "Epoch 96/100\n",
            "484/484 [==============================] - 13s 27ms/step - loss: 1.1520 - accuracy: 0.7997\n",
            "Epoch 97/100\n",
            "484/484 [==============================] - 13s 28ms/step - loss: 1.1478 - accuracy: 0.8005\n",
            "Epoch 98/100\n",
            "484/484 [==============================] - 14s 28ms/step - loss: 1.1409 - accuracy: 0.8007\n",
            "Epoch 99/100\n",
            "484/484 [==============================] - 14s 28ms/step - loss: 1.1411 - accuracy: 0.7996\n",
            "Epoch 100/100\n",
            "484/484 [==============================] - 14s 28ms/step - loss: 1.1233 - accuracy: 0.8046\n"
          ],
          "name": "stdout"
        }
      ]
    },
    {
      "cell_type": "code",
      "metadata": {
        "id": "4A3UMXXvTNhm",
        "colab_type": "code",
        "colab": {
          "base_uri": "https://localhost:8080/",
          "height": 1000
        },
        "outputId": "b2ad611e-92d1-4b24-e956-03f3f4d76ebc"
      },
      "source": [
        "import matplotlib.pyplot as plt\n",
        "acc = history.history['accuracy']\n",
        "loss = history.history['loss']\n",
        "\n",
        "epochs = range(len(acc))\n",
        "\n",
        "plt.plot(epochs, acc, 'b', label='Training accuracy')\n",
        "plt.title('Training accuracy')\n",
        "\n",
        "plt.legend()\n",
        "plt.figure()\n",
        "\n",
        "plt.plot(epochs, loss, 'b', label='Training Loss')\n",
        "plt.title('Training loss')\n",
        "\n",
        "plt.legend()\n",
        "plt.rc('font', size = 15)\n",
        "plt.rc('figure', figsize=[10,10])\n",
        "plt.show()"
      ],
      "execution_count": 10,
      "outputs": [
        {
          "output_type": "display_data",
          "data": {
            "image/png": "[encoded data removed]",
            "text/plain": [
              "<Figure size 720x720 with 1 Axes>"
            ]
          },
          "metadata": {
            "tags": [],
            "needs_background": "light"
          }
        },
        {
          "output_type": "display_data",
          "data": {
            "image/png": "[encoded data removed]",
            "text/plain": [
              "<Figure size 720x720 with 1 Axes>"
            ]
          },
          "metadata": {
            "tags": [],
            "needs_background": "light"
          }
        }
      ]
    },
    {
      "cell_type": "markdown",
      "metadata": {
        "id": "3bKirzM_axrm",
        "colab_type": "text"
      },
      "source": [
        "**This to make 100 words prediction after this sentence:**\n",
        "\n",
        "\"Help me Obi Wan Kenobi, you're my only hope\""
      ]
    },
    {
      "cell_type": "code",
      "metadata": {
        "id": "4suW-u-qYtWr",
        "colab_type": "code",
        "colab": {
          "base_uri": "https://localhost:8080/",
          "height": 121
        },
        "outputId": "b23976e9-7e05-44bd-d8cc-97c1fda6e694"
      },
      "source": [
        "seed_text = \"Help me Obi Wan Kenobi, you're my only hope\"\n",
        "next_words = 100\n",
        "  \n",
        "for _ in range(next_words):\n",
        "\ttoken_list = tokenizer.texts_to_sequences([seed_text])[0]\n",
        "\ttoken_list = pad_sequences([token_list], maxlen=max_sequence_len-1, padding='pre')\n",
        "\tpredicted = model.predict_classes(token_list, verbose=0)\n",
        "\toutput_word = \"\"\n",
        "\tfor word, index in tokenizer.word_index.items():\n",
        "\t\tif index == predicted:\n",
        "\t\t\toutput_word = word\n",
        "\t\t\tbreak\n",
        "\tseed_text += \" \" + output_word\n",
        "print(seed_text)"
      ],
      "execution_count": 6,
      "outputs": [
        {
          "output_type": "stream",
          "text": [
            "WARNING:tensorflow:From <ipython-input-6-622d307fa19a>:7: Sequential.predict_classes (from tensorflow.python.keras.engine.sequential) is deprecated and will be removed after 2021-01-01.\n",
            "Instructions for updating:\n",
            "Please use instead:* `np.argmax(model.predict(x), axis=-1)`,   if your model does multi-class classification   (e.g. if it uses a `softmax` last-layer activation).* `(model.predict(x) > 0.5).astype(\"int32\")`,   if your model does binary classification   (e.g. if it uses a `sigmoid` last-layer activation).\n",
            "Help me Obi Wan Kenobi, you're my only hope some show thee fair sort days forsworn her deeds of hell is 'will ' are confounds that so doth shown appear show thee so foes wit new longer delight than one truth more truth bearing thine days made new skill tongue days doth erred gone to life to some prime spent ' doth grow skill weeds weeds foes height to give complexion sang another care as weeds dead brow dead gems brow date dead brow quite commend curious days weeds spent dead near gone dead quite express'd taken quite curious days rare ill days new fired rare skill gone as\n"
          ],
          "name": "stdout"
        }
      ]
    }
  ]
}